{
  "nbformat": 4,
  "nbformat_minor": 0,
  "metadata": {
    "colab": {
      "provenance": [],
      "include_colab_link": true
    },
    "kernelspec": {
      "name": "python3",
      "display_name": "Python 3"
    },
    "language_info": {
      "name": "python"
    }
  },
  "cells": [
    {
      "cell_type": "markdown",
      "metadata": {
        "id": "view-in-github",
        "colab_type": "text"
      },
      "source": [
        "<a href=\"https://colab.research.google.com/github/arkari-0/Prmn2023a/blob/main/PythonBasic_4_Question.ipynb\" target=\"_parent\"><img src=\"https://colab.research.google.com/assets/colab-badge.svg\" alt=\"Open In Colab\"/></a>"
      ]
    },
    {
      "cell_type": "markdown",
      "source": [
        "<a href=\"https://colab.research.google.com/github/kiryu-3/Prmn2023/blob/main/Python/Python_Basic/question/PythonBasic_4_Question.ipynb\" target=\"_parent\"><img src=\"https://colab.research.google.com/assets/colab-badge.svg\" alt=\"Open In Colab\"/></a>"
      ],
      "metadata": {
        "id": "TA5kKi-LY1xg"
      }
    },
    {
      "cell_type": "markdown",
      "source": [
        "# 第4章 課題"
      ],
      "metadata": {
        "id": "r-kcfL2yEU8b"
      }
    },
    {
      "cell_type": "markdown",
      "source": [
        "## 課題1"
      ],
      "metadata": {
        "id": "UqgRlaNaaWsU"
      }
    },
    {
      "cell_type": "markdown",
      "source": [
        "10から2800まで、10飛ばしの数を乱数で生成し、2220000に足してください。  \n",
        "\n",
        "この数を5つ生成し、一つのリストに格納した後、最終的に頭に\"b\"をつけて5つ出力してください。"
      ],
      "metadata": {
        "id": "dMngS2Dtai7U"
      }
    },
    {
      "cell_type": "markdown",
      "source": [
        "＜実行結果例＞\n",
        "``` py  \n",
        "['b2220400', 'b2221750', 'b2222480', 'b2221720', 'b2220380']\n",
        "```"
      ],
      "metadata": {
        "id": "Ys4Y3shObw3w"
      }
    },
    {
      "cell_type": "code",
      "source": [
        "# 入力用\n",
        "import random\n",
        "\n",
        "bangou=[]\n",
        "\n",
        "for i in range(5):\n",
        "  n=random.randrange(10,2800,10)\n",
        "  m='b'+str(2220000+n)\n",
        "  bangou.append(m)\n",
        "\n",
        "print(bangou)"
      ],
      "metadata": {
        "id": "UaBFEY3Hdbsg",
        "colab": {
          "base_uri": "https://localhost:8080/"
        },
        "outputId": "1f2a346b-990e-4ae4-c87c-cf180b32ac76"
      },
      "execution_count": 8,
      "outputs": [
        {
          "output_type": "stream",
          "name": "stdout",
          "text": [
            "['b2221730', 'b2220890', 'b2222340', 'b2222280', 'b2220260']\n"
          ]
        }
      ]
    },
    {
      "cell_type": "markdown",
      "source": [
        "## 課題2"
      ],
      "metadata": {
        "id": "yRsfay5_8FuJ"
      }
    },
    {
      "cell_type": "markdown",
      "source": [
        "1桁の自然数を乱数を使って5つ格納した2つのリストを作ってください。  \n",
        "この時、一つのリスト内で5つの値が重複しないようにしてください\n",
        "\n",
        "その後、対応する要素を足し合わせた新しいリストを出力してください"
      ],
      "metadata": {
        "id": "4WbYBFGr8Ht3"
      }
    },
    {
      "cell_type": "markdown",
      "source": [
        "＜実行結果例＞\n",
        "``` py  \n",
        "1つ目のリスト：[1, 2, 3, 4, 5]  \n",
        "2つ目のリスト：[1, 3, 5, 7, 9]  \n",
        "足し合わせたリスト：[2, 5, 8, 11, 14]\n",
        "```"
      ],
      "metadata": {
        "id": "A0ImPPha84Nb"
      }
    },
    {
      "cell_type": "code",
      "source": [
        "# 入力用\n",
        "for i in range(5):\n",
        "  list1=random.sample(range(10),5)\n",
        "for i in range(5):\n",
        "  list2=random.sample(range(10),5)\n",
        "\n",
        "print(list1)\n",
        "print(list2)\n",
        "\n",
        "list3=[a+b for a,b in zip(list1,list2)]\n",
        "print(list3)"
      ],
      "metadata": {
        "id": "TaJm8jn2MHmk",
        "colab": {
          "base_uri": "https://localhost:8080/"
        },
        "outputId": "d471cd8d-54bc-4f30-87b3-f0516ad776c8"
      },
      "execution_count": 28,
      "outputs": [
        {
          "output_type": "stream",
          "name": "stdout",
          "text": [
            "[2, 7, 5, 0, 4]\n",
            "[1, 6, 8, 3, 7]\n",
            "[3, 13, 13, 3, 11]\n"
          ]
        }
      ]
    },
    {
      "cell_type": "markdown",
      "source": [
        "## 課題3"
      ],
      "metadata": {
        "id": "-qZw_n3X8xrW"
      }
    },
    {
      "cell_type": "markdown",
      "source": [
        "リストの中身を指定した数で分割してみます。\n",
        "\n",
        "以下のリストには都道府県47つが格納されています。"
      ],
      "metadata": {
        "id": "vxwATeobQf_U"
      }
    },
    {
      "cell_type": "code",
      "source": [
        "todohuken_list = [\n",
        "    '北海道', '青森県', '岩手県', '宮城県', '秋田県', '山形県', '福島県', '茨城県', '栃木県', '群馬県', \n",
        "    '埼玉県', '千葉県', '東京都', '神奈川県', '新潟県', '富山県', '石川県', '福井県', '山梨県', '長野県', \n",
        "    '岐阜県', '静岡県', '愛知県', '三重県', '滋賀県', '京都府', '大阪府', '兵庫県', '奈良県', '和歌山県', \n",
        "    '鳥取県', '島根県', '岡山県', '広島県', '山口県', '徳島県', '香川県', '愛媛県', '高知県',  '福岡県', \n",
        "    '佐賀県', '長崎県', '熊本県', '大分県', '宮崎県', '鹿児島県', '沖縄県',\n",
        "]"
      ],
      "metadata": {
        "id": "8ZdyRWbERGAY"
      },
      "execution_count": 31,
      "outputs": []
    },
    {
      "cell_type": "markdown",
      "source": [
        "  \n",
        "これをランダムに1つのリストのサイズを4として分割してください"
      ],
      "metadata": {
        "id": "tGPa1uU6Qs2c"
      }
    },
    {
      "cell_type": "markdown",
      "source": [
        "＜実行結果例＞  \n",
        "``` py \n",
        "[['宮崎県', '茨城県', '栃木県', '千葉県'], … , ['岩手県', '滋賀県', '宮城県']]\n",
        "```"
      ],
      "metadata": {
        "id": "PWLTwz0TXzm_"
      }
    },
    {
      "cell_type": "code",
      "source": [
        "# 入力用\n",
        "bunkatsu=[]\n",
        "random.shuffle(todohuken_list)\n",
        "for i in range(0,47,4):\n",
        "  bunkatsu.append(todohuken_list[i:i+4])\n",
        "\n",
        "print(bunkatsu)"
      ],
      "metadata": {
        "id": "rgPlOseCTC_h",
        "colab": {
          "base_uri": "https://localhost:8080/"
        },
        "outputId": "af4e2430-0a0e-4b19-f15e-7b75c2e063a2"
      },
      "execution_count": 36,
      "outputs": [
        {
          "output_type": "stream",
          "name": "stdout",
          "text": [
            "[['香川県', '福島県', '山口県', '広島県'], ['茨城県', '和歌山県', '大分県', '山形県'], ['兵庫県', '徳島県', '北海道', '東京都'], ['千葉県', '宮崎県', '鳥取県', '栃木県'], ['島根県', '福井県', '青森県', '大阪府'], ['三重県', '福岡県', '佐賀県', '鹿児島県'], ['秋田県', '奈良県', '滋賀県', '神奈川県'], ['愛媛県', '岡山県', '岐阜県', '埼玉県'], ['宮城県', '高知県', '長野県', '京都府'], ['群馬県', '沖縄県', '熊本県', '静岡県'], ['愛知県', '山梨県', '岩手県', '富山県'], ['石川県', '新潟県', '長崎県']]\n"
          ]
        }
      ]
    },
    {
      "cell_type": "markdown",
      "source": [
        "## 課題4"
      ],
      "metadata": {
        "id": "W573lh39MOlj"
      }
    },
    {
      "cell_type": "markdown",
      "source": [
        "ある大学の名前と年齢が、次のような形式で格納されたリスト `university_list` があります。"
      ],
      "metadata": {
        "id": "sSIMKY-aNcIx"
      }
    },
    {
      "cell_type": "code",
      "source": [
        "university_list = [\n",
        "    \"Chitose,25\",\n",
        "    \"Hokudai,105\",\n",
        "    \"Muroran,74\",\n",
        "    \"Hakodate,23\",\n",
        "]"
      ],
      "metadata": {
        "id": "v-wGyWuKK3wl"
      },
      "execution_count": 37,
      "outputs": []
    },
    {
      "cell_type": "markdown",
      "source": [
        "このリストを、年齢順にソートして、新たなリストとして出力してください"
      ],
      "metadata": {
        "id": "XIxDf9QgO1iH"
      }
    },
    {
      "cell_type": "markdown",
      "source": [
        "＜実行結果＞  \n",
        "``` py\n",
        "['Chitose,25', 'Hokudai,105', 'Muroran,74', 'Hakodate,23']\n",
        "['Hakodate,23', 'Chitose,25', 'Muroran,74', 'Hokudai,105']\n",
        "```"
      ],
      "metadata": {
        "id": "0Z2-_1dAQENU"
      }
    },
    {
      "cell_type": "code",
      "source": [
        "# 入力用\n",
        "print(university_list)"
      ],
      "metadata": {
        "id": "ficNVfkgR5Kv",
        "colab": {
          "base_uri": "https://localhost:8080/"
        },
        "outputId": "d79d7797-2392-4183-a91e-00f0c3b76c35"
      },
      "execution_count": 46,
      "outputs": [
        {
          "output_type": "stream",
          "name": "stdout",
          "text": [
            "['Chitose,25', 'Hakodate,23', 'Hokudai,105', 'Muroran,74']\n"
          ]
        }
      ]
    },
    {
      "cell_type": "markdown",
      "source": [
        "## 課題5"
      ],
      "metadata": {
        "id": "QijnXk7UWAVC"
      }
    },
    {
      "cell_type": "markdown",
      "source": [
        "**FizzBuzz（フィズ・バズ）問題**という問題について解いていきます。\n",
        "\n",
        "もともとは、英語圏で長距離ドライブ中や飲み会の時に行われる言葉遊びです。"
      ],
      "metadata": {
        "id": "m7F47Q1mWCA6"
      }
    },
    {
      "cell_type": "markdown",
      "source": [
        "以下のような問題になります。\n",
        "\n",
        "1～Nまでの整数を順に出力しなさい。ただし、例外として以下のルールを守ること。\n",
        "\n",
        "* 3で割り切れる数字の場合は\"Fizz\"を出力\n",
        "* 5で割り切れる数字の場合は\"Buzz\"を出力\n",
        "* どちらでも割り切れる数字の場合は\"FizzBuzz\"を出力"
      ],
      "metadata": {
        "id": "fArw0VcNWgwZ"
      }
    },
    {
      "cell_type": "markdown",
      "source": [
        "ここではN=100として、まずは一つのリストに\n",
        "\"Fizz\" か \"Buzz\" か \"FizzBuzz\" か \"others\" を格納してください。\n",
        "\n",
        "その後、それぞれの要素の数をカウントしてください。"
      ],
      "metadata": {
        "id": "SYqkpYstWm7Z"
      }
    },
    {
      "cell_type": "markdown",
      "source": [
        "＜実行結果＞  \n",
        "``` py\n",
        "FizzBuzzの数：6 \n",
        "Fizzの数：27 \n",
        "Buzzの数：14\n",
        "othersの数：53  \n",
        "```"
      ],
      "metadata": {
        "id": "OqLuJTcWYzFt"
      }
    },
    {
      "cell_type": "code",
      "source": [
        "# 入力用\n",
        "N=int(input())\n",
        "Fizz=0\n",
        "Buzz=0\n",
        "FizzBuzz=0\n",
        "others=0\n",
        "\n",
        "for i in range(1,N+1):\n",
        "  if(i%3==0):\n",
        "    Fizz=Fizz+1 \n",
        "  if(i%5==0):\n",
        "    Buzz=Buzz+1\n",
        "  if(i%3!=0 and i%5!=0):\n",
        "    others=others+1\n",
        "  if(i%15==0):\n",
        "    FizzBuzz=FizzBuzz+1\n",
        "\n",
        "Fizz=Fizz-FizzBuzz\n",
        "Buzz=Buzz-FizzBuzz\n",
        "\n",
        "print(f\"FizzBuzzの数：{FizzBuzz} \")\n",
        "print(f\"Fizzの数：{Fizz}\")\n",
        "print(f\"Buzzの数：{Buzz}\")\n",
        "print(f\"othersの数：{others}\")"
      ],
      "metadata": {
        "id": "5kEDaVLmaEpb",
        "colab": {
          "base_uri": "https://localhost:8080/"
        },
        "outputId": "fb7038be-ba71-45a7-e2f0-24a7dfaa041f"
      },
      "execution_count": 6,
      "outputs": [
        {
          "output_type": "stream",
          "name": "stdout",
          "text": [
            "100\n",
            "FizzBuzzの数：6 \n",
            "Fizzの数：27\n",
            "Buzzの数：14\n",
            "othersの数：53\n"
          ]
        }
      ]
    }
  ]
}